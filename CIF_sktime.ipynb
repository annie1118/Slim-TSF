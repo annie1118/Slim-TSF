{
 "cells": [
  {
   "cell_type": "code",
   "execution_count": 1,
   "id": "deb51432",
   "metadata": {},
   "outputs": [],
   "source": [
    "import numpy as np\n",
    "import pandas as pd\n",
    "\n",
    "import glob\n",
    "import math\n",
    "import time\n",
    "import pickle\n",
    "import joblib\n",
    "import warnings\n",
    "from sktime.pipeline import make_pipeline\n",
    "from sklearn.metrics import confusion_matrix\n",
    "import Measurements as measurements\n",
    "from sklearn.metrics import make_scorer\n",
    "from sklearn.model_selection import GroupKFold\n",
    "\n",
    "from sktime.classification.interval_based import CanonicalIntervalForest\n",
    "\n",
    "warnings.simplefilter(action='ignore', category=pd.errors.PerformanceWarning)\n",
    "warnings.simplefilter(action='ignore', category=UserWarning)\n",
    "warnings.simplefilter(action='ignore', category=FutureWarning)\n",
    "\n",
    "import Feature_rank_lib as lib"
   ]
  },
  {
   "cell_type": "code",
   "execution_count": 2,
   "id": "b6faad36",
   "metadata": {},
   "outputs": [],
   "source": [
    "# This method extract the necessary features from the destination folder\n",
    "def data_reader(loadPath, partitions, flare_label):\n",
    "    cols = ['USFLUX','TOTUSJZ','TOTUSJH','ABSNJZH','SAVNCPP','TOTPOT','TOTBSQ','TOTFZ','MEANPOT','EPSZ','MEANSHR','SHRGT45','MEANGAM','MEANGBT','MEANGBZ','MEANGBH','MEANJZH','TOTFY','MEANJZD','MEANALP','TOTFX','EPSY','EPSX','R_VALUE']\n",
    "    # Read files from the define path\n",
    "    all_files = glob.glob(str(loadPath) + partitions + \"/\" + flare_label + \"/*.csv\")\n",
    "\n",
    "    li = []\n",
    "    for filename in all_files:\n",
    "        # Read the file and extract necessary features\n",
    "        df = pd.read_csv(filename, index_col=None, header=0, sep='\\t')\n",
    "        df.interpolate(method='linear', axis=0, limit_direction='both', inplace = True)\n",
    "#         # Extract label info\n",
    "#         INFO = filename.split('/')[-1]\n",
    "        # Define Label value based on the file name\n",
    "    \n",
    "        if flare_label == 'NF':\n",
    "            LABEL = 'CBN'\n",
    "        else:\n",
    "            LABEL = 'XM'\n",
    "            \n",
    "        col_list = []\n",
    "        for col in cols:\n",
    "            if not df[col].isnull().values.all(axis=0):\n",
    "                col_list.append(df[col])\n",
    "        if len(col_list) == 24:\n",
    "            li.append(col_list + [LABEL])\n",
    "\n",
    "    # Create and return the dataframe build on the extracted features\n",
    "    partition_frame = pd.DataFrame(li, columns= cols + ['LABEL'])\n",
    "    return partition_frame\n",
    "\n",
    "def evaluation(x_test, y_test, y_pred, clf):\n",
    "    scores = confusion_matrix(y_test, y_pred, labels=['CBN', 'XM']).ravel()\n",
    "    tn, fp, fn, tp = scores\n",
    "\n",
    "    results_DF = pd.DataFrame(columns = ['Confusion_Matrix(tn, fp, fn, tp)', 'Accur', 'TSS', 'HSS', 'GSS', 'TPR', 'TNR', 'CBNPr', 'XMPr', 'FAR', 'POFD', 'f1XM', 'f1CBN'], index = [0])\n",
    "\n",
    "    #Confusion Matrix\n",
    "    results_DF['Confusion_Matrix(tn, fp, fn, tp)'] = [scores]\n",
    "    \n",
    "    #Accuracy\n",
    "    scoreTest = clf.score(x_test, y_test)\n",
    "    #print(\"Train Accuracy: \" + str(round(scoreTrain, 4)))\n",
    "    #print(\"Test Accuracy: \" + str(round(scoreTest, 4)))\n",
    "    results_DF['Accur'] = scoreTest\n",
    "\n",
    "    # TSS\n",
    "    tss = measurements.TSS(scores)\n",
    "    results_DF['TSS'] = tss\n",
    "\n",
    "    # HSS2 Definition 2\n",
    "    hss2 = measurements.HSS2(scores)\n",
    "    results_DF['HSS'] = hss2\n",
    "\n",
    "    # GSS\n",
    "    gss = measurements.GSS(scores)\n",
    "    results_DF['GSS'] = gss\n",
    "\n",
    "    # TPR\n",
    "    tpr = measurements.TPR(scores)\n",
    "    results_DF['TPR'] = tpr\n",
    "    \n",
    "    # TNR\n",
    "    tnr = measurements.TNR(scores)\n",
    "    results_DF['TNR'] = tnr\n",
    "\n",
    "    # Precision Negative\n",
    "    negPrecision = measurements.precisionNeg(scores)\n",
    "    results_DF['CBNPr'] = negPrecision\n",
    "    \n",
    "    # Precision Positive\n",
    "    posPrecision = measurements.precisionPos(scores)\n",
    "    results_DF['XMPr'] = posPrecision\n",
    "\n",
    "    # FAR\n",
    "    far = measurements.FAR(scores)\n",
    "    results_DF['FAR'] = far\n",
    "\n",
    "    # POFD\n",
    "    pofd = measurements.POFD(scores)\n",
    "    results_DF['POFD'] = pofd\n",
    "\n",
    "    # F1(XM)\n",
    "    f1XM = measurements.F1Pos(scores)\n",
    "    results_DF['f1XM'] = f1XM\n",
    "\n",
    "    # F1(CBN)\n",
    "    f1CBN = measurements.F1Neg(scores)\n",
    "    results_DF['f1CBN'] = f1CBN\n",
    "\n",
    "    # Return the result measurement dataframe\n",
    "    return results_DF"
   ]
  },
  {
   "cell_type": "code",
   "execution_count": 3,
   "id": "fcdb92f1",
   "metadata": {},
   "outputs": [],
   "source": [
    "datapath = '/data/SHARPS/BERKAY/v0.7/new-data-folds/instances_O12L0P24/'"
   ]
  },
  {
   "cell_type": "code",
   "execution_count": 4,
   "id": "b65bcdb4",
   "metadata": {},
   "outputs": [],
   "source": [
    "partition1_FL = data_reader(datapath,'partition1','FL')\n",
    "partition1_NF = data_reader(datapath,'partition1','NF')\n",
    "\n",
    "partition2_FL = data_reader(datapath,'partition2','FL')\n",
    "partition2_NF = data_reader(datapath,'partition2','NF')\n",
    "\n",
    "partition3_FL = data_reader(datapath,'partition3','FL')\n",
    "partition3_NF = data_reader(datapath,'partition3','NF')\n",
    "\n",
    "partition4_FL = data_reader(datapath,'partition4','FL')\n",
    "partition4_NF = data_reader(datapath,'partition4','NF')\n",
    "\n",
    "partition5_FL = data_reader(datapath,'partition5','FL')\n",
    "partition5_NF = data_reader(datapath,'partition5','NF')"
   ]
  },
  {
   "cell_type": "code",
   "execution_count": 5,
   "id": "0fb35b48",
   "metadata": {},
   "outputs": [],
   "source": [
    "partition1 = pd.concat([partition1_FL, partition1_NF], ignore_index=True)\n",
    "partition2 = pd.concat([partition2_FL, partition2_NF], ignore_index=True)\n",
    "partition3 = pd.concat([partition3_FL, partition3_NF], ignore_index=True)\n",
    "partition4 = pd.concat([partition4_FL, partition4_NF], ignore_index=True)\n",
    "partition5 = pd.concat([partition5_FL, partition5_NF], ignore_index=True)"
   ]
  },
  {
   "cell_type": "code",
   "execution_count": 6,
   "id": "8a881d6c",
   "metadata": {},
   "outputs": [],
   "source": [
    "X_train_TEp5 = pd.concat([partition1, partition2, partition3, partition4], ignore_index=True)\n",
    "X_train_TEp4 = pd.concat([partition1, partition2, partition3, partition5], ignore_index=True)\n",
    "X_train_TEp3 = pd.concat([partition1, partition2, partition4, partition5], ignore_index=True)\n",
    "X_train_TEp2 = pd.concat([partition1, partition3, partition4, partition5], ignore_index=True)\n",
    "X_train_TEp1 = pd.concat([partition2, partition3, partition4, partition5], ignore_index=True)\n",
    "\n",
    "y_train_TEp5 = X_train_TEp5['LABEL']\n",
    "X_train_TEp5 = X_train_TEp5.loc[:, X_train_TEp5.columns != 'LABEL']\n",
    "y_train_TEp4 = X_train_TEp4['LABEL']\n",
    "X_train_TEp4 = X_train_TEp4.loc[:, X_train_TEp4.columns != 'LABEL']\n",
    "y_train_TEp3 = X_train_TEp3['LABEL']\n",
    "X_train_TEp3 = X_train_TEp3.loc[:, X_train_TEp3.columns != 'LABEL']\n",
    "y_train_TEp2 = X_train_TEp2['LABEL']\n",
    "X_train_TEp2 = X_train_TEp2.loc[:, X_train_TEp2.columns != 'LABEL']\n",
    "y_train_TEp1 = X_train_TEp1['LABEL']\n",
    "X_train_TEp1 = X_train_TEp1.loc[:, X_train_TEp1.columns != 'LABEL']"
   ]
  },
  {
   "cell_type": "code",
   "execution_count": 7,
   "id": "a4b5371b",
   "metadata": {},
   "outputs": [],
   "source": [
    "X_test_TEp5 = partition5.loc[:, partition5.columns != 'LABEL']\n",
    "y_test_TEp5 = partition5['LABEL']\n",
    "X_test_TEp4 = partition4.loc[:, partition4.columns != 'LABEL']\n",
    "y_test_TEp4 = partition4['LABEL']\n",
    "X_test_TEp3 = partition3.loc[:, partition3.columns != 'LABEL']\n",
    "y_test_TEp3 = partition3['LABEL']\n",
    "X_test_TEp2 = partition2.loc[:, partition2.columns != 'LABEL']\n",
    "y_test_TEp2 = partition2['LABEL']\n",
    "X_test_TEp1 = partition1.loc[:, partition1.columns != 'LABEL']\n",
    "y_test_TEp1 = partition1['LABEL']"
   ]
  },
  {
   "cell_type": "code",
   "execution_count": 8,
   "id": "4e125643",
   "metadata": {},
   "outputs": [],
   "source": [
    "import CIF as cif"
   ]
  },
  {
   "cell_type": "code",
   "execution_count": 9,
   "id": "d4ab4133",
   "metadata": {},
   "outputs": [],
   "source": [
    "def train_cif(X_train,y_train,X_test,y_test,test_label='p5'):\n",
    "    result_DF = pd.DataFrame(columns = ['Confusion_Matrix(tn, fp, fn, tp)', 'Accur', 'TSS', 'HSS', 'GSS', 'TPR', 'TNR', 'CBNPr', 'XMPr', 'FAR', 'POFD', 'f1XM', 'f1CBN', 'Experiments'])\n",
    "\n",
    "    cws=[5,6,7,8,9,10]\n",
    "    for cw in cws:\n",
    "        clf = cif.CanonicalIntervalForest(n_estimators=100, n_intervals=8, att_subsample_size=2, base_estimator='DTC', cw=cw, n_jobs=15) \n",
    "\n",
    "        print('Testing '+test_label+', class_weights: {CBN:1, XM:'+str(cw)+'}')\n",
    "        t0=time.time()\n",
    "        clf.fit(X_train, y_train)\n",
    "#         joblib.dump(multivar_rocket_, './models/Rocket/TE'+test_label+'_cw'+str(cw)+'.sav')\n",
    "        print(\"\\tTraining time:\", round(time.time()-t0, 2), \"s\") # the time would be round to 3 decimal in seconds\n",
    "\n",
    "        t1=time.time()\n",
    "        y_pred = clf.predict(X_test)\n",
    "        print(\"\\tPredicting time:\", round(time.time()-t1, 2), \"s\") # the time would be round to 3 decimal in seconds\n",
    "\n",
    "        t2=time.time()\n",
    "        result = evaluation(X_test, y_test, y_pred, clf)\n",
    "        result['Experiments'] = ['TE'+test_label+'_cw'+str(cw)]\n",
    "        result_DF = pd.concat([result_DF,result])\n",
    "        print(\"\\tEvaluation time:\", round(time.time()-t2, 2), \"s\") # the time would be round to 3 decimal in seconds\n",
    "\n",
    "    #     results = ridge.cv_results_\n",
    "    #     allFoldResults_DF = pd.DataFrame.from_dict(results)\n",
    "\n",
    "    result_DF = result_DF.reset_index(drop=True)\n",
    "    return result_DF"
   ]
  },
  {
   "cell_type": "code",
   "execution_count": 10,
   "id": "877df881",
   "metadata": {
    "scrolled": true
   },
   "outputs": [
    {
     "name": "stdout",
     "output_type": "stream",
     "text": [
      "Testing p5, class_weights: {CBN:1, XM:5}\n",
      "\tTraining time: 2236.94 s\n"
     ]
    },
    {
     "name": "stderr",
     "output_type": "stream",
     "text": [
      "/workspace/TimeSeriesAnalysis/CIF.py:304: RuntimeWarning: overflow encountered in multiply\n",
      "  transformed_x = transformed_x.round(8)\n"
     ]
    },
    {
     "name": "stdout",
     "output_type": "stream",
     "text": [
      "\tPredicting time: 637.41 s\n"
     ]
    },
    {
     "name": "stderr",
     "output_type": "stream",
     "text": [
      "/workspace/TimeSeriesAnalysis/CIF.py:336: RuntimeWarning: overflow encountered in multiply\n",
      "  transformed_x.round(8)\n"
     ]
    },
    {
     "name": "stdout",
     "output_type": "stream",
     "text": [
      "\tEvaluation time: 634.44 s\n",
      "Testing p5, class_weights: {CBN:1, XM:6}\n"
     ]
    },
    {
     "name": "stderr",
     "output_type": "stream",
     "text": [
      "/workspace/TimeSeriesAnalysis/CIF.py:336: RuntimeWarning: overflow encountered in multiply\n",
      "  transformed_x.round(8)\n"
     ]
    },
    {
     "name": "stdout",
     "output_type": "stream",
     "text": [
      "\tTraining time: 2247.39 s\n",
      "\tPredicting time: 652.96 s\n",
      "\tEvaluation time: 654.14 s\n",
      "Testing p5, class_weights: {CBN:1, XM:7}\n",
      "\tTraining time: 2214.95 s\n",
      "\tPredicting time: 632.35 s\n",
      "\tEvaluation time: 638.66 s\n",
      "Testing p5, class_weights: {CBN:1, XM:8}\n",
      "\tTraining time: 2199.58 s\n",
      "\tPredicting time: 639.82 s\n",
      "\tEvaluation time: 642.97 s\n",
      "Testing p5, class_weights: {CBN:1, XM:9}\n",
      "\tTraining time: 2212.14 s\n",
      "\tPredicting time: 635.37 s\n"
     ]
    },
    {
     "name": "stderr",
     "output_type": "stream",
     "text": [
      "/workspace/TimeSeriesAnalysis/Measurements.py:69: RuntimeWarning: invalid value encountered in true_divide\n",
      "  precisionPos = TP / float(TP + FP)\n",
      "/workspace/TimeSeriesAnalysis/Measurements.py:93: RuntimeWarning: invalid value encountered in true_divide\n",
      "  FAR = FP / float(TP + FP)\n",
      "/workspace/TimeSeriesAnalysis/Measurements.py:105: RuntimeWarning: invalid value encountered in true_divide\n",
      "  precision = TP / float(TP + FP)\n"
     ]
    },
    {
     "name": "stdout",
     "output_type": "stream",
     "text": [
      "\tEvaluation time: 641.36 s\n",
      "Testing p5, class_weights: {CBN:1, XM:10}\n",
      "\tTraining time: 2158.17 s\n",
      "\tEvaluation time: 524.54 s\n"
     ]
    }
   ],
   "source": [
    "result_TEp5 = train_cif(X_train_TEp5,y_train_TEp5,X_test_TEp5,y_test_TEp5)\n",
    "result_TEp5.to_csv('./results/CIF/TEp5_cw.csv')"
   ]
  },
  {
   "cell_type": "code",
   "execution_count": 30,
   "id": "5baeff5d",
   "metadata": {},
   "outputs": [
    {
     "data": {
      "text/plain": [
       "TSS      0.017243\n",
       "HSS      0.031407\n",
       "CBNPr    0.977638\n",
       "XMPr     0.256531\n",
       "FAR      0.743469\n",
       "TPR      0.018169\n",
       "dtype: float64"
      ]
     },
     "execution_count": 30,
     "metadata": {},
     "output_type": "execute_result"
    }
   ],
   "source": [
    "result_TEp4[['TSS','HSS','CBNPr','XMPr','FAR','TPR']].mean(axis=0)"
   ]
  },
  {
   "cell_type": "code",
   "execution_count": 14,
   "id": "9160f730",
   "metadata": {
    "scrolled": true
   },
   "outputs": [
    {
     "name": "stdout",
     "output_type": "stream",
     "text": [
      "Testing p4, class_weights: {CBN:1, XM:5}\n",
      "\tTraining time: 1958.9 s\n",
      "\tPredicting time: 363.08 s\n",
      "\tEvaluation time: 365.61 s\n",
      "Testing p4, class_weights: {CBN:1, XM:6}\n",
      "\tTraining time: 1996.63 s\n",
      "\tPredicting time: 350.21 s\n",
      "\tEvaluation time: 354.68 s\n",
      "Testing p4, class_weights: {CBN:1, XM:7}\n",
      "\tTraining time: 1966.33 s\n",
      "\tPredicting time: 350.86 s\n",
      "\tEvaluation time: 355.71 s\n",
      "Testing p4, class_weights: {CBN:1, XM:8}\n",
      "\tTraining time: 1962.84 s\n",
      "\tPredicting time: 357.68 s\n"
     ]
    },
    {
     "name": "stderr",
     "output_type": "stream",
     "text": [
      "/workspace/TimeSeriesAnalysis/Measurements.py:107: RuntimeWarning: invalid value encountered in double_scalars\n",
      "  f1 = 2 * ((precision * recall) / (precision + recall))\n"
     ]
    },
    {
     "name": "stdout",
     "output_type": "stream",
     "text": [
      "\tEvaluation time: 356.17 s\n",
      "Testing p4, class_weights: {CBN:1, XM:9}\n",
      "\tTraining time: 1941.44 s\n",
      "\tPredicting time: 353.84 s\n",
      "\tEvaluation time: 352.84 s\n",
      "Testing p4, class_weights: {CBN:1, XM:10}\n",
      "\tTraining time: 2047.4 s\n",
      "\tPredicting time: 362.84 s\n",
      "\tEvaluation time: 364.06 s\n"
     ]
    }
   ],
   "source": [
    "result_TEp4 = train_cif(X_train_TEp4,y_train_TEp4,X_test_TEp4,y_test_TEp4,test_label='p4')\n",
    "result_TEp4.to_csv('./results/CIF/TEp4_cw.csv')"
   ]
  },
  {
   "cell_type": "code",
   "execution_count": 16,
   "id": "5f9e79cc",
   "metadata": {},
   "outputs": [
    {
     "name": "stdout",
     "output_type": "stream",
     "text": [
      "Testing p3, class_weights: {CBN:1, XM:5}\n",
      "\tTraining time: 2022.09 s\n",
      "\tPredicting time: 302.59 s\n"
     ]
    },
    {
     "name": "stderr",
     "output_type": "stream",
     "text": [
      "/workspace/TimeSeriesAnalysis/Measurements.py:69: RuntimeWarning: invalid value encountered in true_divide\n",
      "  precisionPos = TP / float(TP + FP)\n",
      "/workspace/TimeSeriesAnalysis/Measurements.py:93: RuntimeWarning: invalid value encountered in true_divide\n",
      "  FAR = FP / float(TP + FP)\n",
      "/workspace/TimeSeriesAnalysis/Measurements.py:105: RuntimeWarning: invalid value encountered in true_divide\n",
      "  precision = TP / float(TP + FP)\n"
     ]
    },
    {
     "name": "stdout",
     "output_type": "stream",
     "text": [
      "\tEvaluation time: 284.39 s\n",
      "Testing p3, class_weights: {CBN:1, XM:6}\n",
      "\tTraining time: 2043.95 s\n",
      "\tPredicting time: 311.96 s\n"
     ]
    },
    {
     "name": "stderr",
     "output_type": "stream",
     "text": [
      "/workspace/TimeSeriesAnalysis/Measurements.py:69: RuntimeWarning: invalid value encountered in true_divide\n",
      "  precisionPos = TP / float(TP + FP)\n",
      "/workspace/TimeSeriesAnalysis/Measurements.py:93: RuntimeWarning: invalid value encountered in true_divide\n",
      "  FAR = FP / float(TP + FP)\n",
      "/workspace/TimeSeriesAnalysis/Measurements.py:105: RuntimeWarning: invalid value encountered in true_divide\n",
      "  precision = TP / float(TP + FP)\n"
     ]
    },
    {
     "name": "stdout",
     "output_type": "stream",
     "text": [
      "\tEvaluation time: 296.44 s\n",
      "Testing p3, class_weights: {CBN:1, XM:7}\n",
      "\tTraining time: 2082.5 s\n",
      "\tPredicting time: 309.33 s\n"
     ]
    },
    {
     "name": "stderr",
     "output_type": "stream",
     "text": [
      "/workspace/TimeSeriesAnalysis/Measurements.py:107: RuntimeWarning: invalid value encountered in double_scalars\n",
      "  f1 = 2 * ((precision * recall) / (precision + recall))\n"
     ]
    },
    {
     "name": "stdout",
     "output_type": "stream",
     "text": [
      "\tEvaluation time: 293.23 s\n",
      "Testing p3, class_weights: {CBN:1, XM:8}\n",
      "\tTraining time: 2011.88 s\n"
     ]
    },
    {
     "name": "stderr",
     "output_type": "stream",
     "text": [
      "/workspace/TimeSeriesAnalysis/CIF.py:304: RuntimeWarning: overflow encountered in multiply\n",
      "  transformed_x = transformed_x.round(8)\n"
     ]
    },
    {
     "name": "stdout",
     "output_type": "stream",
     "text": [
      "\tPredicting time: 303.65 s\n",
      "\tEvaluation time: 282.54 s\n",
      "Testing p3, class_weights: {CBN:1, XM:9}\n"
     ]
    },
    {
     "name": "stderr",
     "output_type": "stream",
     "text": [
      "/workspace/TimeSeriesAnalysis/CIF.py:336: RuntimeWarning: overflow encountered in multiply\n",
      "  transformed_x.round(8)\n",
      "/usr/local/lib/python3.8/dist-packages/numpy/core/fromnumeric.py:86: RuntimeWarning: invalid value encountered in reduce\n",
      "  return ufunc.reduce(obj, axis, dtype, out, **passkwargs)\n",
      "/workspace/TimeSeriesAnalysis/CIF.py:336: RuntimeWarning: overflow encountered in multiply\n",
      "  transformed_x.round(8)\n",
      "/usr/local/lib/python3.8/dist-packages/numpy/core/fromnumeric.py:86: RuntimeWarning: invalid value encountered in reduce\n",
      "  return ufunc.reduce(obj, axis, dtype, out, **passkwargs)\n"
     ]
    },
    {
     "name": "stdout",
     "output_type": "stream",
     "text": [
      "\tTraining time: 2049.15 s\n",
      "\tPredicting time: 308.57 s\n"
     ]
    },
    {
     "name": "stderr",
     "output_type": "stream",
     "text": [
      "/workspace/TimeSeriesAnalysis/Measurements.py:107: RuntimeWarning: invalid value encountered in double_scalars\n",
      "  f1 = 2 * ((precision * recall) / (precision + recall))\n"
     ]
    },
    {
     "name": "stdout",
     "output_type": "stream",
     "text": [
      "\tEvaluation time: 290.68 s\n",
      "Testing p3, class_weights: {CBN:1, XM:10}\n",
      "\tTraining time: 2053.22 s\n",
      "\tPredicting time: 309.01 s\n",
      "\tEvaluation time: 290.39 s\n"
     ]
    }
   ],
   "source": [
    "result_TEp3 = train_cif(X_train_TEp3,y_train_TEp3,X_test_TEp3,y_test_TEp3,test_label='p3')\n",
    "result_TEp3.to_csv('./results/CIF/TEp3_cw.csv')"
   ]
  },
  {
   "cell_type": "code",
   "execution_count": 17,
   "id": "f61b25f8",
   "metadata": {},
   "outputs": [
    {
     "name": "stdout",
     "output_type": "stream",
     "text": [
      "Testing p2, class_weights: {CBN:1, XM:5}\n",
      "\tTraining time: 1735.62 s\n",
      "\tPredicting time: 618.54 s\n",
      "\tEvaluation time: 707.52 s\n",
      "Testing p2, class_weights: {CBN:1, XM:6}\n",
      "\tTraining time: 1744.36 s\n",
      "\tPredicting time: 628.49 s\n",
      "\tEvaluation time: 634.93 s\n",
      "Testing p2, class_weights: {CBN:1, XM:7}\n",
      "\tTraining time: 1769.18 s\n",
      "\tPredicting time: 625.67 s\n",
      "\tEvaluation time: 648.64 s\n",
      "Testing p2, class_weights: {CBN:1, XM:8}\n",
      "\tTraining time: 1735.51 s\n",
      "\tPredicting time: 628.16 s\n",
      "\tEvaluation time: 627.1 s\n",
      "Testing p2, class_weights: {CBN:1, XM:9}\n",
      "\tTraining time: 1735.82 s\n",
      "\tPredicting time: 623.07 s\n",
      "\tEvaluation time: 625.25 s\n",
      "Testing p2, class_weights: {CBN:1, XM:10}\n",
      "\tTraining time: 1722.49 s\n",
      "\tPredicting time: 624.83 s\n",
      "\tEvaluation time: 624.74 s\n"
     ]
    }
   ],
   "source": [
    "result_TEp2 = train_cif(X_train_TEp2,y_train_TEp2,X_test_TEp2,y_test_TEp2,test_label='p2')\n",
    "result_TEp2.to_csv('./results/CIF/TEp2_cw.csv')"
   ]
  },
  {
   "cell_type": "code",
   "execution_count": 25,
   "id": "c43c62fa",
   "metadata": {},
   "outputs": [
    {
     "name": "stdout",
     "output_type": "stream",
     "text": [
      "Testing p1, class_weights: {CBN:1, XM:5}\n",
      "\tTraining time: 1838.95 s\n",
      "\tPredicting time: 640.97 s\n"
     ]
    },
    {
     "name": "stderr",
     "output_type": "stream",
     "text": [
      "/workspace/TimeSeriesAnalysis/Measurements.py:107: RuntimeWarning: invalid value encountered in double_scalars\n",
      "  f1 = 2 * ((precision * recall) / (precision + recall))\n"
     ]
    },
    {
     "name": "stdout",
     "output_type": "stream",
     "text": [
      "\tEvaluation time: 525.83 s\n",
      "Testing p1, class_weights: {CBN:1, XM:6}\n",
      "\tTraining time: 1807.43 s\n",
      "\tPredicting time: 516.07 s\n",
      "\tEvaluation time: 523.95 s\n",
      "Testing p1, class_weights: {CBN:1, XM:7}\n",
      "\tTraining time: 1834.05 s\n",
      "\tPredicting time: 525.07 s\n",
      "\tTraining time: 1798.74 s\n",
      "\tPredicting time: 515.17 s\n",
      "\tEvaluation time: 515.82 s\n",
      "Testing p1, class_weights: {CBN:1, XM:9}\n",
      "\tTraining time: 1792.7 s\n",
      "\tPredicting time: 516.01 s\n",
      "\tEvaluation time: 521.91 s\n",
      "Testing p1, class_weights: {CBN:1, XM:10}\n",
      "\tTraining time: 1809.35 s\n"
     ]
    },
    {
     "name": "stderr",
     "output_type": "stream",
     "text": [
      "/workspace/TimeSeriesAnalysis/CIF.py:304: RuntimeWarning: overflow encountered in multiply\n",
      "  transformed_x = transformed_x.round(8)\n"
     ]
    },
    {
     "name": "stdout",
     "output_type": "stream",
     "text": [
      "\tPredicting time: 520.07 s\n",
      "\tEvaluation time: 529.91 s\n"
     ]
    },
    {
     "name": "stderr",
     "output_type": "stream",
     "text": [
      "/workspace/TimeSeriesAnalysis/Measurements.py:69: RuntimeWarning: invalid value encountered in true_divide\n",
      "  precisionPos = TP / float(TP + FP)\n",
      "/workspace/TimeSeriesAnalysis/Measurements.py:93: RuntimeWarning: invalid value encountered in true_divide\n",
      "  FAR = FP / float(TP + FP)\n",
      "/workspace/TimeSeriesAnalysis/Measurements.py:105: RuntimeWarning: invalid value encountered in true_divide\n",
      "  precision = TP / float(TP + FP)\n"
     ]
    }
   ],
   "source": [
    "result_TEp1 = train_cif(X_train_TEp1,y_train_TEp1,X_test_TEp1,y_test_TEp1,test_label='p1')\n",
    "result_TEp1.to_csv('./results/CIF/TEp1_cw.csv')"
   ]
  },
  {
   "cell_type": "code",
   "execution_count": null,
   "id": "e353fcdb",
   "metadata": {},
   "outputs": [],
   "source": []
  },
  {
   "cell_type": "code",
   "execution_count": null,
   "id": "7ea23bb7",
   "metadata": {},
   "outputs": [],
   "source": []
  }
 ],
 "metadata": {
  "kernelspec": {
   "display_name": "Python 3 (ipykernel)",
   "language": "python",
   "name": "python3"
  },
  "language_info": {
   "codemirror_mode": {
    "name": "ipython",
    "version": 3
   },
   "file_extension": ".py",
   "mimetype": "text/x-python",
   "name": "python",
   "nbconvert_exporter": "python",
   "pygments_lexer": "ipython3",
   "version": "3.8.10"
  }
 },
 "nbformat": 4,
 "nbformat_minor": 5
}
